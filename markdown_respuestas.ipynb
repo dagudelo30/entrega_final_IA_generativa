{
 "cells": [
  {
   "cell_type": "markdown",
   "metadata": {},
   "source": [
    "# Documentación de Herramientas del Agente de Devoluciones\n",
    "\n",
    "## 📋 Descripción General\n",
    "\n",
    "El agente de devoluciones utiliza 4 herramientas principales para interactuar con sistemas externos y procesar solicitudes de devolución. Cada herramienta está diseñada para una función específica dentro del flujo de trabajo.\n",
    "\n",
    "\n",
    "\n",
    "## 🤖 Arquitectura de LLMs del Agente\n",
    "\n",
    "### 1. LLM Principal (get_llm())\n"
   ]
  },
  {
   "cell_type": "code",
   "execution_count": null,
   "metadata": {},
   "outputs": [],
   "source": [
    "# Configuración\n",
    "model = \"meta-llama/llama-3.3-70b-instruct:free\"\n",
    "base_url = \"https://openrouter.ai/api/v1\"\n",
    "timeout = 60\n",
    "max_retries = 3"
   ]
  },
  {
   "cell_type": "markdown",
   "metadata": {},
   "source": [
    "Propósito: Procesamiento principal de consultas complejas y razonamiento avanzado.\n",
    "\n",
    "Características:\n",
    "\n",
    "✅ Modelo grande: 70B parámetros para tareas complejas\n",
    "\n",
    "✅ Alta capacidad: Razonamiento detallado y comprensión contextual\n",
    "\n",
    "✅ Tolerante a latencia: Timeout de 60 segundos\n",
    "\n",
    "✅ Robusto: 3 reintentos automáticos\n",
    "\n",
    "Uso en el Sistema:\n",
    "\n",
    "- Consultas RAG complejas\n",
    "\n",
    "- Toma de decisiones de elegibilidad\n",
    "\n",
    "- Análisis de políticas detalladas"
   ]
  },
  {
   "cell_type": "markdown",
   "metadata": {},
   "source": [
    "### 2. LLM Pequeño (get_llm_small())"
   ]
  },
  {
   "cell_type": "code",
   "execution_count": null,
   "metadata": {},
   "outputs": [],
   "source": [
    "# Configuración  \n",
    "model = \"qwen/qwen-2.5-7b-instruct:free\"\n",
    "timeout = 45\n",
    "max_retries = 2"
   ]
  },
  {
   "cell_type": "markdown",
   "metadata": {},
   "source": [
    "Propósito: Tareas livianas que no requieren gran capacidad de razonamiento.\n",
    "\n",
    "Características:\n",
    "\n",
    "⚡ Modelo eficiente: 7B parámetros para baja latencia\n",
    "\n",
    "⚡ Respuesta rápida: Timeout de 45 segundos\n",
    "\n",
    "⚡ Costo optimizado: Modelo gratuito/open-source\n",
    "\n",
    "⚡ Tareas específicas: Extracción, redacción, formateo\n",
    "\n",
    "Casos de Uso:\n",
    "\n",
    "- Extracción de order_id desde texto libre\n",
    "\n",
    "- Redacción de respuestas amigables al usuario\n",
    "\n",
    "- Generación de mensajes de cortesía\n",
    "\n",
    "- Formateo de respuestas estructuradas"
   ]
  },
  {
   "cell_type": "markdown",
   "metadata": {},
   "source": [
    "### 3. LLM del Sistema RAG (build_policy_rag())"
   ]
  },
  {
   "cell_type": "code",
   "execution_count": null,
   "metadata": {},
   "outputs": [],
   "source": [
    "# Configuración RAG\n",
    "embeddings = \"BAAI/bge-m3\"\n",
    "chunking = \"SemanticChunker\"\n",
    "vectorstore = \"FAISS\"\n",
    "k = 4  # documentos recuperados"
   ]
  },
  {
   "cell_type": "markdown",
   "metadata": {},
   "source": [
    "Propósito: Consulta especializada en políticas de devolución usando Retrieval-Augmented Generation.\n",
    "\n",
    "Características:\n",
    "\n",
    "🧠 Embeddings avanzados: Modelo BGE-M3 para representación semántica\n",
    "\n",
    "📚 Chunking inteligente: Segmentación semántica (percentil 65)\n",
    "\n",
    "🔍 Búsqueda vectorial: FAISS para recuperación eficiente\n",
    "\n",
    "📖 Contexto relevante: 4 documentos más relevantes por consulta\n",
    "\n",
    "Flujo de Trabajo RAG:\n",
    "\n",
    "1. Embedding: Texto → vectores con BGE-M3\n",
    "\n",
    "2. Chunking: División semántica de políticas\n",
    "\n",
    "3. Retrieval: Búsqueda por similitud en FAISS\n",
    "\n",
    "4. Generation: Respuesta contextual con LLM principal"
   ]
  },
  {
   "cell_type": "markdown",
   "metadata": {},
   "source": [
    "## 🔄 Distribución de LLMs por Herramienta\n",
    "\n",
    "| Herramienta | LLM Utilizado | Propósito |\n",
    "|-------------|---------------|-----------|\n",
    "| `buscar_pedido` | ❌ Ninguno | Consulta directa a DataFrame |\n",
    "| `verificar_elegibilidad_producto` | ✅ **LLM Principal + RAG** | Análisis semántico de políticas |\n",
    "| `generar_etiqueta_devolucion` | ❌ Ninguno | Función determinística |\n",
    "| `registrar_evento_sql` | ❌ Ninguno | Operación de base de datos |\n",
    "| `extract_order_id_llm` | ✅ **LLM Pequeño** | Extracción rápida de IDs |\n",
    "| `friendly_ask_for_order_id` | ✅ **LLM Pequeño** | Redacción de mensajes |\n",
    "| `render_final_reply_with_llm` | ✅ **LLM Pequeño** | Respuestas amigables al usuario |"
   ]
  },
  {
   "cell_type": "markdown",
   "metadata": {},
   "source": [
    "## 🛠️ 1. Tool: `buscar_pedido`\n",
    "\n",
    "### **Propósito**\n",
    "Busca y recupera información básica de un pedido en la base de datos de EcoMarket usando el order_id proporcionado.\n",
    "\n",
    "### **Esquema de Entrada**\n",
    "```python\n",
    "class BuscarPedidoInput(BaseModel):\n",
    "    order_id: str = Field(..., description=\"ID del pedido\")\n",
    "```\n",
    "\n",
    "### **Parámetros de Entrada**\n",
    "| Parámetro | Tipo | Requerido | Descripción |\n",
    "|-----------|------|-----------|-------------|\n",
    "| `order_id` | string | ✅ | Identificador único del pedido (ej: \"2509006\", \"ORD12345\") |\n",
    "\n",
    "### **Respuesta de Salida**\n",
    "```python\n",
    "{\n",
    "    \"order_id\": \"2509006\",\n",
    "    \"name\": \"Juan Pérez\",\n",
    "    \"status\": \"Entregado\", \n",
    "    \"category\": \"Electrónicos\",\n",
    "    \"raw\": { ... }  # Datos completos del DataFrame\n",
    "}\n",
    "```\n",
    "\n",
    "### **Comportamiento**\n",
    "- ✅ **Encontrado**: Devuelve diccionario con información estructurada del pedido\n",
    "- ❌ **No encontrado**: Devuelve diccionario vacío `{}`\n",
    "- 🔄 **Error**: Maneja excepciones y retorna `{}` en caso de fallo"
   ]
  },
  {
   "cell_type": "markdown",
   "metadata": {},
   "source": [
    "## 🛠️ 2. Tool: `verificar_elegibilidad_producto`\n",
    "\n",
    "### **Propósito**\n",
    "Consulta el sistema RAG de políticas para determinar si un producto es elegible para devolución basándose en su estado y categoría.\n",
    "\n",
    "### **Esquema de Entrada**\n",
    "```python\n",
    "class VerificarElegibilidadInput(BaseModel):\n",
    "    order_id: str\n",
    "    status: str  \n",
    "    category: str\n",
    "```\n",
    "\n",
    "### **Parámetros de Entrada**\n",
    "| Parámetro | Tipo | Requerido | Descripción |\n",
    "|-----------|------|-----------|-------------|\n",
    "| `order_id` | string | ✅ | ID del pedido para trazabilidad |\n",
    "| `status` | string | ✅ | Estado actual del producto (ej: \"Entregado\", \"En tránsito\") |\n",
    "| `category` | string | ✅ | Categoría del producto (ej: \"Electrónicos\", \"Ropa\") |\n",
    "\n",
    "### **Respuesta de Salida**\n",
    "```python\n",
    "{\n",
    "    \"eligible\": True,\n",
    "    \"reason\": \"El producto cumple con todos los criterios de devolución...\"\n",
    "}\n",
    "```\n",
    "\n",
    "### **Comportamiento**\n",
    "- 🤖 **Consulta RAG**: Usa embeddings semánticos con modelo BGE-M3\n",
    "- 📋 **Basado en políticas**: Decide según políticas de devolución\n",
    "- 🎯 **Estructurado**: Siempre devuelve `{\"eligible\": bool, \"reason\": str}`\n",
    "- ⚠️ **Fallback**: Si hay error, retorna `eligible: False` con mensaje descriptivo"
   ]
  },
  {
   "cell_type": "markdown",
   "metadata": {},
   "source": [
    "## 🛠️ 3. Tool: `generar_etiqueta_devolucion`\n",
    "\n",
    "### **Propósito**\n",
    "Genera un RMA (Return Merchandise Authorization) y una etiqueta de devolución simulada para productos elegibles.\n",
    "\n",
    "### **Esquema de Entrada**\n",
    "```python\n",
    "class GenerarEtiquetaInput(BaseModel):\n",
    "    order_id: str\n",
    "    customer_name: Optional[str] = \"\"\n",
    "    category: Optional[str] = \"\"  \n",
    "    status: Optional[str] = \"\"\n",
    "```\n",
    "\n",
    "### **Parámetros de Entrada**\n",
    "| Parámetro | Tipo | Requerido | Descripción |\n",
    "|-----------|------|-----------|-------------|\n",
    "| `order_id` | string | ✅ | ID del pedido para generar RMA único |\n",
    "| `customer_name` | string | ❌ | Nombre del cliente (opcional) |\n",
    "| `category` | string | ❌ | Categoría del producto (opcional) |\n",
    "| `status` | string | ❌ | Estado del producto (opcional) |\n",
    "\n",
    "### **Respuesta de Salida**\n",
    "```python\n",
    "{\n",
    "    \"rma\": \"RMA-20241201-ABC12345\",\n",
    "    \"label_url\": \"https://labels.ecomarket.test/RMA-20241201-ABC12345.pdf\",\n",
    "    \"label_text\": \"=== ETIQUETA DE DEVOLUCIÓN ===\\\\nRMA: RMA-20241201-ABC12345\\\\n...\"\n",
    "}\n",
    "```"
   ]
  },
  {
   "cell_type": "markdown",
   "metadata": {},
   "source": [
    "## 🛠️ 4. Tool: `registrar_evento_sql`\n",
    "\n",
    "### **Propósito**\n",
    "Registra eventos de devolución en base de datos SQLite para auditoría y seguimiento.\n",
    "\n",
    "### **Esquema de Entrada**\n",
    "```python\n",
    "class RegistrarEventoSQLInput(BaseModel):\n",
    "    order_id: str\n",
    "    rma: str\n",
    "    status: Literal[\"Procesando\", \"Entregado\", ...]  # 8 estados posibles\n",
    "    notes: Optional[str] = None\n",
    "    reason: Optional[str] = None  \n",
    "    category: Optional[str] = None\n",
    "    customer_name: Optional[str] = None\n",
    "```\n",
    "\n",
    "### **Estados Permitidos**\n",
    "- `\"Procesando\"`, `\"En preparación\"`, `\"En tránsito\"`, `\"Retrasado\"`\n",
    "- `\"Entregado\"`, `\"Intento de entrega fallido\"`, `\"Retenido por aduana\"`, `\"En revisión de pago\"`\n",
    "\n",
    "### **Respuesta de Salida**\n",
    "```python\n",
    "{\n",
    "    \"ok\": True,\n",
    "    \"event_id\": \"uuid-unico\",\n",
    "    \"ts\": \"2024-12-01T10:30:00\",\n",
    "    \"order_id\": \"2509006\",\n",
    "    ...  # todos los campos del evento\n",
    "}\n",
    "```"
   ]
  },
  {
   "cell_type": "markdown",
   "metadata": {},
   "source": [
    "## 🔄 Resumen de Integración\n",
    "\n",
    "### **Secuencia Típica del Flujo**\n",
    "1. `buscar_pedido` → Recupera datos del pedido\n",
    "2. `verificar_elegibilidad_producto` → Consulta políticas via RAG  \n",
    "3. `generar_etiqueta_devolucion` → Crea RMA y etiqueta (si es elegible)\n",
    "4. `registrar_evento_sql` → Registra evento en BD para trazabilidad\n",
    "\n",
    "### **Características Comunes de Todas las Tools**\n",
    "- ✅ **Tipado fuerte**: Usan Pydantic para validación de esquemas\n",
    "- 🔧 **Decoradas con `@tool`**: Integración nativa con LangGraph\n",
    "- 📝 **Documentación completa**: Docstrings detallados\n",
    "- 🛡️ **Robustas**: Manejo de errores y fallbacks integrados\n",
    "- 🔄 **Estructuras consistentes**: Siempre retornan diccionarios predecibles\n",
    "\n",
    "### **Manejo de Errores**\n",
    "- Todas las tools incluyen manejo robusto de excepciones\n",
    "- Retornan estructuras consistentes incluso en caso de fallo\n",
    "- No interrumpen el flujo principal del agente\n",
    "- Proporcionan mensajes de error descriptivos"
   ]
  },
  {
   "cell_type": "markdown",
   "metadata": {},
   "source": [
    "## 🎯 Ejemplo de Flujo Completo\n",
    "\n",
    "### **Caso: Devolución Exitosa**\n",
    "```python\n",
    "# 1. Buscar pedido\n",
    "pedido = buscar_pedido.invoke({\"order_id\": \"2509006\"})\n",
    "# Returns: {\"order_id\": \"2509006\", \"status\": \"Entregado\", \"category\": \"Electrónicos\"}\n",
    "\n",
    "# 2. Verificar elegibilidad\n",
    "elegibilidad = verificar_elegibilidad_producto.invoke({\n",
    "    \"order_id\": \"2509006\", \n",
    "    \"status\": \"Entregado\", \n",
    "    \"category\": \"Electrónicos\"\n",
    "})\n",
    "# Returns: {\"eligible\": True, \"reason\": \"Producto cumple políticas...\"}\n",
    "\n",
    "# 3. Generar etiqueta (si es elegible)\n",
    "if elegibilidad[\"eligible\"]:\n",
    "    etiqueta = generar_etiqueta_devolucion.invoke({\n",
    "        \"order_id\": \"2509006\",\n",
    "        \"customer_name\": pedido[\"name\"]\n",
    "    })\n",
    "    # Returns: {\"rma\": \"RMA-20241201-ABC123\", \"label_url\": \"...\"}\n",
    "\n",
    "# 4. Registrar evento\n",
    "registro = registrar_evento_sql.invoke({\n",
    "    \"order_id\": \"2509006\",\n",
    "    \"rma\": etiqueta[\"rma\"],\n",
    "    \"status\": \"Procesando\",\n",
    "    \"notes\": \"Devolución aprobada\"\n",
    "})\n",
    "# Returns: {\"ok\": True, \"event_id\": \"...\", ...}\n",
    "```\n",
    "\n",
    "### **Notas de Implementación**\n",
    "- Las tools son ejercicios en baja escala pero representan integraciones reales\n",
    "- Pueden ser extendidas para conectar con APIs corporativas\n",
    "- El RAG usa embeddings BGE-M3 con FAISS para búsqueda semántica\n",
    "- La base de datos SQLite permite auditoría y reporting"
   ]
  },
  {
   "cell_type": "markdown",
   "metadata": {},
   "source": [
    "## 🔧 Información Técnica Adicional\n",
    "\n",
    "### **Dependencias Principales**\n",
    "- **LangChain/LangGraph**: Framework para agentes y tools\n",
    "- **Pydantic**: Validación de esquemas y tipos\n",
    "- **FAISS**: Almacenamiento vectorial para RAG\n",
    "- **SQLite**: Base de datos para eventos\n",
    "- **HuggingFace Embeddings**: Modelo BGE-M3 para embeddings\n",
    "\n",
    "### **Estructura de Archivos**\n",
    "```\n",
    "/project_root/\n",
    "├── data/\n",
    "│   ├── documents/           # Políticas en MD\n",
    "│   ├── vectorstore/         # Índice FAISS\n",
    "│   └── data_log/           # BD SQLite\n",
    "├── codigo_2.py             # Implementación agentes\n",
    "└── app_streamlit.py        # Interfaz web\n",
    "```\n",
    "\n",
    "### **Flujo grama del proceso**\n",
    "\n",
    "[![](https://mermaid.ink/img/pako:eNpNUl1v2yAU_SvoPrWS28U2SWM_VIpaaS-pKkXuy0wVUXPjoNrgYci6JfnvBdxle-Oer8sRHKHRAqGEXad_NXtuLKkemXpJr-qX0XEj9es1U5u03mhn0RCBRHCrx1emVmm9Xj-VZEAhTUTJN2JwHLQSaLygSuvq-Xldkjc3Ntxsg1DoQGQ1g4k6oJE7GVjssJVvspOCi-1gtHCNT7xyIyeb1fdrBsGYfyW2qNAEk5U_HVq-FXjQnWukVkFGv2TGR442Cg-obNgdupGbm_uTNv6WWykSMr67hPTayoM-kU0a6kbFjneWx2InsvoH6_cTqdJQL45KE_zwW3ASTSipslDzIojdOi-p6AX_D8xDtckXeBqPIQ0SaI0UUFrjMIEeTc_DCEemCGFg99gjg9IfBe646ywDps7eNnD1Q-v-r9No1-6h9JVGP7nBt8JHyVvD-wtqMDzcg3bKQpnRmAHlET6gpLP8dpnOl0U-o_P0Lvfkb6_JPJjlaVYss2JWzOk5gT9x6ex2mdG8yBZ3i3ye0zldJOBf32rzNH23-OvOn_hCzzU?type=png)](https://mermaid.live/edit#pako:eNpNUl1v2yAU_SvoPrWS28U2SWM_VIpaaS-pKkXuy0wVUXPjoNrgYci6JfnvBdxle-Oer8sRHKHRAqGEXad_NXtuLKkemXpJr-qX0XEj9es1U5u03mhn0RCBRHCrx1emVmm9Xj-VZEAhTUTJN2JwHLQSaLygSuvq-Xldkjc3Ntxsg1DoQGQ1g4k6oJE7GVjssJVvspOCi-1gtHCNT7xyIyeb1fdrBsGYfyW2qNAEk5U_HVq-FXjQnWukVkFGv2TGR442Cg-obNgdupGbm_uTNv6WWykSMr67hPTayoM-kU0a6kbFjneWx2InsvoH6_cTqdJQL45KE_zwW3ASTSipslDzIojdOi-p6AX_D8xDtckXeBqPIQ0SaI0UUFrjMIEeTc_DCEemCGFg99gjg9IfBe646ywDps7eNnD1Q-v-r9No1-6h9JVGP7nBt8JHyVvD-wtqMDzcg3bKQpnRmAHlET6gpLP8dpnOl0U-o_P0Lvfkb6_JPJjlaVYss2JWzOk5gT9x6ex2mdG8yBZ3i3ye0zldJOBf32rzNH23-OvOn_hCzzU)"
   ]
  },
  {
   "cell_type": "markdown",
   "metadata": {},
   "source": [
    "# Selección del Marco de Agentes: LangChain + LangGraph\n",
    "\n",
    "## 🎯 Decisión Técnica\n",
    "**Marco Seleccionado**: LangChain + LangGraph  \n",
    "**Alternativa Considerada**: LlamaIndex  \n",
    "**Justificación**: Optimización para flujos de trabajo complejos con múltiples herramientas y estado persistente.\n",
    "\n",
    "---\n",
    "\n",
    "## 📊 Comparativa de Marcos\n",
    "\n",
    "| Característica | LangChain + LangGraph | LlamaIndex |\n",
    "|----------------|----------------------|------------|\n",
    "| **Flujos de trabajo complejos** | ✅ **Excelente** (StateGraph) | ⚠️ Limitado |\n",
    "| **Integración de herramientas** | ✅ **Nativa** (@tool decorator) | ✅ Buena |\n",
    "| **Manejo de estado** | ✅ **Robusto** (AgentState) | ❌ Básico |\n",
    "| **Grafos ejecutables** | ✅ **Especializado** (StateGraph) | ❌ No aplica |\n",
    "| **Checkpoints y memoria** | ✅ **Avanzado** (MemorySaver) | ⚠️ Limitado |\n",
    "| **RAG integrado** | ✅ **Completo** | ✅ **Excelente** |\n",
    "| **Curva de aprendizaje** | ⚠️ Moderada | ✅ Suave |\n",
    "| **Documentación** | ✅ **Extensa** | ✅ Buena |\n",
    "\n",
    "---\n",
    "\n",
    "## 🚀 Justificación para el MVP Actual\n",
    "\n",
    "### **1. Flujo de Trabajo Complejo y Secuencial**\n",
    "```python\n",
    "FLUJO_AGENTE = [\n",
    "    \"router_node\" → \"buscar_pedido_node\" → \"verificar_elegibilidad_producto\" \n",
    "    → \"generar_etiqueta_devolucion\" → \"registrar_evento_sql\" → \"responder_node\"\n",
    "]"
   ]
  },
  {
   "cell_type": "markdown",
   "metadata": {},
   "source": [
    "**LangGraph permite:**\n",
    "\n",
    "✅ Grafos condicionales: Rutas dinámicas basadas en estado\n",
    "\n",
    "✅ Estado persistente: Mantener contexto entre nodos\n",
    "\n",
    "✅ Checkpoints: Recuperación de conversaciones"
   ]
  },
  {
   "cell_type": "markdown",
   "metadata": {},
   "source": [
    "**Ventajas:**\n",
    "\n",
    "✅ Decoradores nativos: @tool para definición rápida\n",
    "\n",
    "✅ Esquemas Pydantic: Validación automática de entradas\n",
    "\n",
    "✅ Registro automático: Las tools se descubren automáticamente"
   ]
  },
  {
   "cell_type": "markdown",
   "metadata": {},
   "source": [
    "**Capacidades críticas:**\n",
    "\n",
    "✅ Estado tipado: Type hints para desarrollo seguro\n",
    "\n",
    "✅ Persistencia: MemorySaver para conversaciones largas\n",
    "\n",
    "✅ Serialización: Fácil debug y logging"
   ]
  },
  {
   "cell_type": "markdown",
   "metadata": {},
   "source": [
    "🎯 Por Qué No LlamaIndex para Este MVP\n",
    "Limitaciones de LlamaIndex:\n",
    "\n",
    "❌ Flujos de Trabajo Complejos:\n",
    "\n",
    "- Enfoque en RAG, no en orquestación de agentes\n",
    "\n",
    "- MVP requiere 7 nodos interconectados con lógica condicional\n",
    "\n",
    "❌ Manejo de Estado Avanzado:\n",
    "\n",
    "- Necesitamos mantener 10+ campos de estado\n",
    "\n",
    "- LangGraph provee AgentState out-of-the-box\n",
    "\n",
    "❌ Grafos Ejecutables:\n",
    "\n",
    "- \"Devolución de productos\" requiere flujo secuencial estricto\n",
    "\n",
    "- LangGraph permite flujos declarativos"
   ]
  },
  {
   "cell_type": "markdown",
   "metadata": {},
   "source": [
    "💡 Casos Donde LlamaIndex Sería Mejor\n",
    "Consideraríamos LlamaIndex si:\n",
    "\n",
    "🔍 Solo búsqueda semántica: Sin flujos complejos\n",
    "\n",
    "📚 RAG puro: Consultas documentales sin estado\n",
    "\n",
    "🚀 Prototipo rápido: Menos de 3 herramientas simples\n",
    "\n",
    "🔗 Data connectors: Fuentes de datos heterogéneas"
   ]
  },
  {
   "cell_type": "markdown",
   "metadata": {},
   "source": [
    "## 🏆 Conclusión: LangChain + LangGraph es la Elección Óptima\n",
    "\n",
    "### **Para Nuestro MVP de Devoluciones**:\n",
    "\n",
    "| Requerimiento | LangGraph | LlamaIndex |\n",
    "|---------------|-----------|------------|\n",
    "| **7 herramientas integradas** | ✅ **Perfecto** | ⚠️ Posible |\n",
    "| **Flujo condicional complejo** | ✅ **Ideal** | ❌ Limitado |\n",
    "| **Estado persistente** | ✅ **Nativo** | ❌ Básico |\n",
    "| **RAG para políticas** | ✅ **Suficiente** | ✅ **Excelente** |\n",
    "| **Checkpoints conversación** | ✅ **Incluido** | ❌ No aplica |\n",
    "| **Time to Market** | ✅ **Rápido** | ⚠️ Moderado |"
   ]
  },
  {
   "cell_type": "markdown",
   "metadata": {},
   "source": [
    "### Decisión Final:\n",
    "✅ LangChain + LangGraph es la elección técnica correcta porque nuestro MVP es fundamentalmente un sistema de flujo de trabajo con estado que incidentalmente usa RAG, no un sistema de RAG que incidentalmente tiene flujo de trabajo.\n",
    "\n",
    "Ventajas clave:\n",
    "\n",
    "🎯 Flujo visual claro: Grafos fáciles de entender y modificar\n",
    "\n",
    "🔧 Mantenibilidad: Estado tipado y herramientas organizadas\n",
    "\n",
    "📈 Escalabilidad: Fácil añadir nuevas herramientas y nodos\n",
    "\n",
    "🐛 Debugging: Mejor trazabilidad y logs estructurados\n",
    "\n"
   ]
  },
  {
   "cell_type": "markdown",
   "metadata": {},
   "source": [
    "# Reflexión Crítica sobre el Agente de Devoluciones\n",
    "\n",
    "## 🔒 Análisis de Seguridad y Ética\n",
    "\n",
    "### **Riesgos Identificados**\n",
    "La implementación de un agente de IA con capacidad de tomar acciones autónomas introduce nuevos riesgos éticos y de seguridad que deben ser mitigados proactivamente. Nuestro agente de devoluciones, aunque opera en un contexto limitado, presenta varios escenarios de riesgo potencial:\n",
    "\n",
    "**Riesgo 1: Toma de Decisiones Incorrectas sobre Elegibilidad**\n",
    "- *Escenario*: El RAG podría malinterpretar políticas y aprobar devoluciones no permitidas o rechazar casos legítimos\n",
    "- *Impacto*: Pérdidas económicas para la empresa o insatisfacción del cliente\n",
    "- *Mitigación*: Implementar umbrales de confianza y revisión humana para casos borderline\n",
    "\n",
    "**Riesgo 2: Exposición de Datos Sensibles**\n",
    "- *Escenario*: El agente podría accidentalmente revelar información de otros clientes o datos internos sensibles\n",
    "- *Impacto*: Violación de privacidad y posibles sanciones legales\n",
    "- *Mitigación*: Filtrado estricto de respuestas y máscara de datos personales en logs\n",
    "\n",
    "**Riesgo 3: Dependencia Excesiva del Cliente**\n",
    "- *Escenario*: Los usuarios podrían confiar ciegamente en las decisiones del agente sin verificación\n",
    "- *Impacto*: Errores propagados y pérdida de interacción humana crítica\n",
    "- *Mitigación*: Comunicación clara de limitaciones y opción de escalar a agente humano\n",
    "\n",
    "### **Principios Éticos Implementados**\n",
    "- **Transparencia**: El agente explica sus decisiones basándose en políticas específicas\n",
    "- **Auditabilidad**: Todas las interacciones se registran en SQLite para posterior revisión\n",
    "- **Proporcionalidad**: Las acciones están limitadas al ámbito de devoluciones\n",
    "- **Control Humano**: Siempre existe la opción de contactar servicio al cliente humano\n",
    "\n",
    "## 📊 Monitoreo y Observabilidad\n",
    "\n",
    "### **Sistema de Registro Implementado**\n",
    "Hemos diseñado un sistema multicapa de monitoreo que garantiza la trazabilidad completa del agente:\n",
    "\n",
    "**Capa 1: Registro de Eventos en SQLite**"
   ]
  },
  {
   "cell_type": "code",
   "execution_count": null,
   "metadata": {},
   "outputs": [],
   "source": [
    "-- Tabla eventos_devoluciones.db\n",
    "-- Registra: timestamp, order_id, acción realizada, resultado, razones de decisión\n",
    "-- Permite: Auditoría posterior, análisis de tendencias, detección de anomalías"
   ]
  },
  {
   "cell_type": "markdown",
   "metadata": {},
   "source": [
    " **Capa 2: Logs Estructurados de Ejecución**\n",
    "\n",
    "- Cada tool genera logs con entrada, salida y métricas de performance\n",
    "\n",
    "- Seguimiento del flujo completo a través del StateGraph\n",
    "\n",
    "- Métricas de latencia por herramienta y por LLM"
   ]
  },
  {
   "cell_type": "markdown",
   "metadata": {},
   "source": [
    "**Capa 3: Sistema de Alertas Propuesto**"
   ]
  },
  {
   "cell_type": "code",
   "execution_count": null,
   "metadata": {},
   "outputs": [],
   "source": [
    "SISTEMA_ALERTAS = {\n",
    "    \"umbral_rechazos\": \">80% de devoluciones rechazadas en 1 hora\",\n",
    "    \"latencia_pico\": \"Tiempo de respuesta > 30 segundos consistentemente\", \n",
    "    \"errores_consecutivos\": \">5 errores sequentiales en misma herramienta\",\n",
    "    \"anomalia_decisiones\": \"Patrón inusual en criterios de elegibilidad\"\n",
    "}"
   ]
  },
  {
   "cell_type": "markdown",
   "metadata": {},
   "source": [
    "**Capa 4: Dashboard de Monitoreo**\n",
    "\n",
    "- Tasa de éxito por herramienta\n",
    "\n",
    "- Tiempos de respuesta promedio\n",
    "\n",
    "- Distribución de decisiones (aprobado/rechazado)\n",
    "\n",
    "- Uso de recursos por modelo de LLM"
   ]
  },
  {
   "cell_type": "markdown",
   "metadata": {},
   "source": [
    "### 🚀 Propuestas de Mejora y Evolución\n",
    "\n",
    "**Agente de Reemplazo Automático**\n",
    "\n",
    "Problema actual: El proceso de reemplazo requiere intervención manual después de la devolución\n",
    "Solución propuesta:"
   ]
  },
  {
   "cell_type": "code",
   "execution_count": null,
   "metadata": {},
   "outputs": [],
   "source": [
    "@tool(\"generar_orden_reemplazo\", args_schema=ReemplazoInput)\n",
    "def generar_orden_reemplazo(order_id: str, producto_original: str, motivo: str):\n",
    "    # Consultar inventario en tiempo real\n",
    "    # Verificar disponibilidad de producto similar\n",
    "    # Generar orden de reemplazo automática\n",
    "    # Notificar al cliente por email"
   ]
  },
  {
   "cell_type": "markdown",
   "metadata": {},
   "source": [
    "Beneficios:\n",
    "\n",
    "- Reducción de 3-5 días en el proceso de reemplazo\n",
    "\n",
    "- Mejora en la experiencia del cliente\n",
    "\n",
    "- Disminución de carga en servicio al cliente"
   ]
  },
  {
   "cell_type": "markdown",
   "metadata": {},
   "source": [
    "**Agente de Actualización de CRM**\n",
    "\n",
    "Problema actual: La información del cliente se actualiza manualmente después de interacciones\n",
    "Solución propuesta:"
   ]
  },
  {
   "cell_type": "code",
   "execution_count": null,
   "metadata": {},
   "outputs": [],
   "source": [
    "@tool(\"actualizar_perfil_cliente\", args_schema=CRMInput) \n",
    "def actualizar_perfil_cliente(cliente_id: str, interaccion: str, resultado: str, satisfaccion: int):\n",
    "    # Extraer insights de la conversación\n",
    "    # Actualizar preferencias del cliente\n",
    "    # Marcar tendencias de comportamiento\n",
    "    # Sugerir acciones de retención si es necesario"
   ]
  },
  {
   "cell_type": "markdown",
   "metadata": {},
   "source": [
    "Beneficios:\n",
    "\n",
    "- CRM siempre actualizado con interacciones recientes\n",
    "\n",
    "- Mejor personalización en futuras comunicaciones\n",
    "\n",
    "- Detección temprana de clientes en riesgo"
   ]
  },
  {
   "cell_type": "markdown",
   "metadata": {},
   "source": [
    "**Sistema de Escalación Inteligente**\n",
    "\n",
    "Problema actual: No hay criterios claros para escalar a agente humano\n",
    "Solución propuesta:"
   ]
  },
  {
   "cell_type": "code",
   "execution_count": null,
   "metadata": {},
   "outputs": [],
   "source": [
    "def deber_escalar_humano(estado_agente: AgentState) -> bool:\n",
    "    criterios = [\n",
    "        \"confianza_decicion < 0.7\",\n",
    "        \"intentos_fallidos > 2\", \n",
    "        \"cliente_expresa_frustracion == True\",\n",
    "        \"caso_complejidad_alta == True\"\n",
    "    ]\n",
    "    return any(criterios)"
   ]
  },
  {
   "cell_type": "markdown",
   "metadata": {},
   "source": [
    "**Análisis Predictivo de Devoluciones**\n",
    "\n",
    "Propuesta avanzada:"
   ]
  },
  {
   "cell_type": "code",
   "execution_count": null,
   "metadata": {},
   "outputs": [],
   "source": [
    "@tool(\"predecir_riesgo_devolucion\", args_schema=PrediccionInput)\n",
    "def predecir_riesgo_devolucion(cliente_id: str, producto: str, historial: Dict):\n",
    "    # Analizar patrones históricos\n",
    "    # Identificar productos con alta tasa de devolución\n",
    "    # Sugerir acciones preventivas\n",
    "    # Alertar sobre posibles abusos del sistema"
   ]
  },
  {
   "cell_type": "markdown",
   "metadata": {},
   "source": [
    "### 💡 Conclusión Reflexiva\n",
    "La implementación de agentes de IA autónomos representa un equilibrio delicado entre eficiencia operativa y responsabilidad ética. Nuestro agente de devoluciones demuestra que es posible crear sistemas útiles manteniendo safeguards apropiados.\n",
    "\n",
    "Lecciones aprendidas:\n",
    "\n",
    "1. La transparencia en la toma de decisiones es tan importante como la precisión\n",
    "\n",
    "2. Los sistemas de monitoreo deben diseñarse desde el día uno, no como afterthought\n",
    "\n",
    "3. La escalación humana debe ser una característica fundamental, no un plan de contingencia\n",
    "\n",
    "**Visión futura:** Creemos que los agentes especializados como este representan el futuro de la atención al cliente - no reemplazando humanos, sino amplificando sus capacidades y permitiéndoles enfocarse en casos que realmente requieren empatía y juicio complejo.\n",
    "\n",
    "El camino forward incluye expandir las capacidades del agente mientras fortalecemos simultáneamente los frameworks éticos y de seguridad que garantizan su operación responsable."
   ]
  }
 ],
 "metadata": {
  "kernelspec": {
   "display_name": "Python (IA_generativa)",
   "language": "python",
   "name": "ia_generativa"
  },
  "language_info": {
   "codemirror_mode": {
    "name": "ipython",
    "version": 3
   },
   "file_extension": ".py",
   "mimetype": "text/x-python",
   "name": "python",
   "nbconvert_exporter": "python",
   "pygments_lexer": "ipython3",
   "version": "3.11.9"
  }
 },
 "nbformat": 4,
 "nbformat_minor": 4
}
